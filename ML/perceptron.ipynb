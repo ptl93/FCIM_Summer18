{
 "cells": [
  {
   "cell_type": "markdown",
   "metadata": {},
   "source": [
    "Implementation of Perceptron for classification  \n",
    "Author: Tuan Le  \n",
    "Email: tuanle@hotmail.de"
   ]
  },
  {
   "cell_type": "code",
   "execution_count": 1,
   "metadata": {
    "collapsed": true
   },
   "outputs": [],
   "source": [
    "#Load all needed libraries:\n",
    "import numpy as np\n",
    "import random as rnd\n",
    "import matplotlib.pyplot as plt"
   ]
  },
  {
   "cell_type": "code",
   "execution_count": 2,
   "metadata": {
    "collapsed": true
   },
   "outputs": [],
   "source": [
    "#Define Perceptron class:\n",
    "class Perceptron(object):\n",
    "    \"\"\"\n",
    "    Perceptron Classifier.\n",
    "    \n",
    "    Parameter\n",
    "    ---------\n",
    "    eta : float\n",
    "        Learning rate (between 0..0 and 1.0)\n",
    "    max_iter : int\n",
    "        Passes (epochs) over the training set.\n",
    "    \n",
    "    Attributes\n",
    "    ---------\n",
    "    w : 1d-array\n",
    "        Weights after fitting.\n",
    "    eta: float\n",
    "        Learning rate\n",
    "    max_iter: int\n",
    "        maximal number of iterations\n",
    "    \"\"\"\n",
    "    \n",
    "    ### Constructor: ###\n",
    "    def __init__(self, eta=0.1, max_iter=1000):\n",
    "        '''\n",
    "        Init method for Perceptron.\n",
    "        \n",
    "        Parameters\n",
    "        ----------\n",
    "        eta : Learning rate\n",
    "        max_iter : Maximal iteration number\n",
    "            \n",
    "        Returns\n",
    "        -------\n",
    "        perceptron object : a perceptron object for classification\n",
    "        '''\n",
    "        self.eta = eta\n",
    "        self.max_iter = max_iter\n",
    "        self.weights = None\n",
    "        self.inter_weights = []\n",
    "      \n",
    "    ### Train method: ###\n",
    "    def train (self, X, Y):\n",
    "        '''\n",
    "        Training method for data.\n",
    "        \n",
    "        Parameters\n",
    "        ----------\n",
    "        X : Training vectors\n",
    "        y : Target values\n",
    "            \n",
    "        Returns\n",
    "        -------\n",
    "        w_ : 1d-array; Weights after fitting.\n",
    "        '''\n",
    "        \n",
    "        #Get sample information\n",
    "        (n_samples, n_features) = X.shape\n",
    "        #Initialize random weights element (including bias) [0,1] for learning\n",
    "        self.weights = np.random.rand(n_features+1, 1)\n",
    "        #Concatenate 1 vector for bias modeling\n",
    "        X = np.c_[np.ones((n_samples, 1)), X]\n",
    "        #Compute prediction by applying sign function over weighted sum\n",
    "        weighted_sum = np.dot(X, self.weights)\n",
    "        Y_hat = np.sign(weighted_sum)\n",
    "        #Iterate over training set and apply learning rule:\n",
    "        for iteration in range(0, self.max_iter):\n",
    "            #If prediction is correct:break and go to next observation, note here vectors will be compared\n",
    "            if np.array_equal(Y, Y_hat):\n",
    "                break\n",
    "            #If there are misprediction iterate over full training sample (batch) and apply weights learning\n",
    "            for sample in range(0, n_samples):\n",
    "                if Y[sample] != Y_hat[sample]:\n",
    "                    self.weights += self.eta * Y[sample] * X[sample][:, np.newaxis]\n",
    "                    self.inter_weights.append(np.copy(self.weights))\n",
    "                    Y_hat = np.sign(np.dot(X, self.weights))\n",
    "        return self.weights"
   ]
  },
  {
   "cell_type": "code",
   "execution_count": 3,
   "metadata": {
    "collapsed": true
   },
   "outputs": [],
   "source": [
    "## Generate data function for learning:\n",
    "def generate_data(n, dim):\n",
    "    '''\n",
    "    Generating training data.\n",
    "        \n",
    "    Parameters\n",
    "    ----------\n",
    "    n : the number of samples \n",
    "    dim: number of features.\n",
    "\n",
    "    Returns\n",
    "    -------\n",
    "    X : training vectors\n",
    "    '''\n",
    "    #create half of n random numbers being element [-1,0]\n",
    "    X1 = np.random.rand(n//2, dim) - 1\n",
    "    #create another half of n random numbers being element [0,1]\n",
    "    X2 = np.random.rand(n - n//2, dim)\n",
    "    #row bind the data into one frame\n",
    "    X = np.r_[X1, X2]\n",
    "    #create -1 output values for half data to classify\n",
    "    Y1 = np.zeros((n - n//2, 1)) - 1\n",
    "    #create 1 output values for rest of half data to classify\n",
    "    Y2 = np.ones((n//2, 1))\n",
    "    #rowbind into one single vector\n",
    "    Y = np.r_[Y1, Y2]\n",
    "    return X, Y"
   ]
  },
  {
   "cell_type": "code",
   "execution_count": 4,
   "metadata": {
    "collapsed": true
   },
   "outputs": [],
   "source": [
    "##Plot functions in two dimensional feature space\n",
    "def plot2D(X, Y, p):\n",
    "    '''\n",
    "    Plots the data points and the separating hyperplane in the two dimensional case\n",
    "    \n",
    "    Parameters\n",
    "    ----------\n",
    "    X: matrix containing the data points\n",
    "    Y: label of the data points\n",
    "    p: instance of trained perceptron model\n",
    "    '''\n",
    "    #create plot object\n",
    "    plt.figure()\n",
    "    #create scatterplot taking first two dimensions of X-Matrix\n",
    "    plt.scatter(X[:, 0], X[:, 1], c=Y.flatten())\n",
    "    #save inter_weights objects into variable\n",
    "    inter_weights = p.inter_weights\n",
    "    for index, weights in enumerate(inter_weights):\n",
    "        #slope a\n",
    "        a = - weights[1] / weights[2]\n",
    "        #intercept b\n",
    "        b = - weights[0] / weights[2]\n",
    "        x = [-1, 1]\n",
    "        y = [a*e+b for e in x]\n",
    "        if index == len(inter_weights) - 1:\n",
    "            plt.plot(x, y, 'r-')\n",
    "        else:\n",
    "            plt.plot(x, y, 'b--')\n",
    "    plt.show()"
   ]
  },
  {
   "cell_type": "code",
   "execution_count": 5,
   "metadata": {},
   "outputs": [
    {
     "name": "stdout",
     "output_type": "stream",
     "text": [
      "Printing generated data:\n",
      "[[-0.97322898 -0.42068827]\n",
      " [-0.9002936  -0.53687105]\n",
      " [-0.57763557 -0.89798504]\n",
      " [-0.25750757 -0.52305615]\n",
      " [-0.10629991 -0.94573276]\n",
      " [ 0.27789343  0.4586517 ]\n",
      " [ 0.58134261  0.58796   ]\n",
      " [ 0.35166931  0.30575911]\n",
      " [ 0.75428118  0.92014991]\n",
      " [ 0.71128019  0.61409058]]\n",
      "[[-1.]\n",
      " [-1.]\n",
      " [-1.]\n",
      " [-1.]\n",
      " [-1.]\n",
      " [ 1.]\n",
      " [ 1.]\n",
      " [ 1.]\n",
      " [ 1.]\n",
      " [ 1.]]\n",
      "<__main__.Perceptron object at 0x0000021CF09BC2E8>\n"
     ]
    },
    {
     "data": {
      "image/png": "[encoded data removed]",
      "text/plain": [
       "<matplotlib.figure.Figure at 0x21cf09bc128>"
      ]
     },
     "metadata": {},
     "output_type": "display_data"
    }
   ],
   "source": [
    "##Apply learning:\n",
    "\n",
    "#1) generate random data: 10 observations and 2 features \n",
    "rnd.seed(123)\n",
    "X, Y = generate_data(10, 2)\n",
    "print(\"Printing generated data:\")\n",
    "print(X)\n",
    "print(Y)\n",
    "\n",
    "#2) Peceptron:\n",
    "#a) create object\n",
    "perceptron = Perceptron()\n",
    "print(perceptron)\n",
    "#b) call method to train on X and Y data\n",
    "perceptron.train(X, Y)\n",
    "#c) plot the results\n",
    "plot2D(X, Y, perceptron)"
   ]
  },
  {
   "cell_type": "code",
   "execution_count": 6,
   "metadata": {},
   "outputs": [
    {
     "name": "stdout",
     "output_type": "stream",
     "text": [
      "[[1 1 0]\n",
      " [1 0 1]\n",
      " [0 1 1]\n",
      " [0 0 0]]\n"
     ]
    },
    {
     "data": {
      "image/png": "[encoded data removed]",
      "text/plain": [
       "<matplotlib.figure.Figure at 0x21cf2a13be0>"
      ]
     },
     "metadata": {},
     "output_type": "display_data"
    }
   ],
   "source": [
    "## XOR Example:\n",
    "xor = np.matrix([[1, 1], [1, 0], [0,1], [0,0]])\n",
    "target = np.array([0,1,1,0])\n",
    "\n",
    "data = np.c_[xor,target]\n",
    "print(data)\n",
    "\n",
    "plt.plot(xor[:, 0], xor[:, 1],\"ro\", marker=\"o\")\n",
    "plt.show()\n",
    "#learn:\n",
    "perceptron2 = Perceptron()\n",
    "#b) call method to train on X and Y data"
   ]
  },
  {
   "cell_type": "code",
   "execution_count": 7,
   "metadata": {
    "collapsed": true
   },
   "outputs": [],
   "source": [
    "### Image classification using naive black and white flagging:\n",
    "one = [\n",
    "    [0,1,0],\n",
    "    [0,1,0],\n",
    "    [0,1,0],\n",
    "    [0,1,0],\n",
    "    [0,1,0]\n",
    "]\n",
    "two = [\n",
    "    [1,1,1],\n",
    "    [0,0,1],\n",
    "    [1,1,1],\n",
    "    [1,0,0],\n",
    "    [1,1,1]\n",
    "]\n",
    "three = [\n",
    "    [1,1,1],\n",
    "    [0,0,1],\n",
    "    [0,1,1],\n",
    "    [0,0,1],\n",
    "    [1,1,1]\n",
    "]\n",
    "four = [\n",
    "    [1,0,1],\n",
    "    [1,0,1],\n",
    "    [1,1,1],\n",
    "    [0,0,1],\n",
    "    [0,0,1]\n",
    "]\n",
    "five = [\n",
    "    [1,1,1],\n",
    "    [1,0,0],\n",
    "    [1,1,1],\n",
    "    [0,0,1],\n",
    "    [1,1,1]\n",
    "]\n",
    "six = [\n",
    "    [1,1,1],\n",
    "    [1,0,0],\n",
    "    [1,1,1],\n",
    "    [1,0,1],\n",
    "    [1,1,1]\n",
    "]\n",
    "seven = [\n",
    "    [1,1,1],\n",
    "    [0,0,1],\n",
    "    [0,0,1],\n",
    "    [0,0,1],\n",
    "    [0,0,1]\n",
    "]\n",
    "eight = [\n",
    "    [1,1,1],\n",
    "    [1,0,1],\n",
    "    [1,1,1],\n",
    "    [1,0,1],\n",
    "    [1,1,1]\n",
    "]\n",
    "nine = [\n",
    "    [1,1,1],\n",
    "    [1,0,1],\n",
    "    [1,1,1],\n",
    "    [0,0,1],\n",
    "    [1,1,1]\n",
    "]\n",
    "zero = [\n",
    "    [1,1,1],\n",
    "    [1,0,1],\n",
    "    [1,0,1],\n",
    "    [1,0,1],\n",
    "    [1,1,1]\n",
    "]\n",
    "numbers = [one, two, three, four, five, six, seven, eight, nine, zero]"
   ]
  },
  {
   "cell_type": "code",
   "execution_count": 8,
   "metadata": {},
   "outputs": [
    {
     "data": {
      "image/png": "[encoded data removed]",
      "text/plain": [
       "<matplotlib.figure.Figure at 0x21cf2be62e8>"
      ]
     },
     "metadata": {},
     "output_type": "display_data"
    }
   ],
   "source": [
    "# convert numbers to numpy array\n",
    "np_numbers = [np.array(element, dtype=float) for element in numbers]\n",
    "\n",
    "# print all number via plt.imshow method\n",
    "fig = plt.figure(0)\n",
    "for index in range(0, 10):\n",
    "    plt.subplot2grid((2, 5), (int(index / 5), index%5))\n",
    "    plt.imshow(np_numbers[index-1], cmap='binary')\n",
    "plt.show()"
   ]
  },
  {
   "cell_type": "code",
   "execution_count": null,
   "metadata": {
    "collapsed": true
   },
   "outputs": [],
   "source": []
  }
 ],
 "metadata": {
  "kernelspec": {
   "display_name": "Python 3",
   "language": "python",
   "name": "python3"
  },
  "language_info": {
   "codemirror_mode": {
    "name": "ipython",
    "version": 3
   },
   "file_extension": ".py",
   "mimetype": "text/x-python",
   "name": "python",
   "nbconvert_exporter": "python",
   "pygments_lexer": "ipython3",
   "version": "3.6.2"
  }
 },
 "nbformat": 4,
 "nbformat_minor": 2
}
