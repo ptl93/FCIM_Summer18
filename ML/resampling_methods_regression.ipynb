{
 "cells": [
  {
   "cell_type": "markdown",
   "metadata": {},
   "source": [
    "# Machine Learning \n"
   ]
  },
  {
   "cell_type": "markdown",
   "metadata": {},
   "source": [
    "## General - Scikit-Learn Design\n",
    "All objects within scikit-learn share a unifrom common basic API consisting of three complementary interfaces: \n",
    "+ <b>estimator</b> <i>interface for building and fitting models</i>\n",
    "+ <b>predictor</b> <i>interface for making predictions</i>\n",
    "+ <b>transformer</b> <i>interface vor converting data.</i>\n",
    "\n",
    "### Estimators \n",
    "The estimator interface is at the core of the library. It defines instantiation mechanisms of objects and exposes a <em>fit()</em> method for learning a model from training data. Estimator initialization and actual learning are strictly separated, in a way that is similar to partial function application: an estimator is initialized from a set of named constant hyper-parameter values and can be considered as a function that maps these values to an actual learning algorithm. The constructor of an estimator does not see any actual data, nor does it perform any actual learning. All it does is attaching the given parameteres to the object. Default hyper-parameters values are also provided for all built-in estimators. These default values are set to be relevant in many common situation in order to make estimators as effective as possible out-of-box even for non-experts.\n",
    "Actual learning is performed by the <em>fit()</em> method. Its task is to run a learning algorithm and to determine model-specific parameters from the training data and set these attributes on the estimator object. \n",
    "\n",
    "### Predictors\n",
    "The predictor interface extends the notion of an estimator by adding a <em>predict()</em> method that takes an array $X\\_test$ and produces predictions for $X\\_test$, based on the  learned parameters of the estimator. Hence, in the case of supervised learning estimators, this method typically returns the predicted labels or values computed by the model. \n",
    "\n",
    "### Transformers\n",
    "Since it is common to modify or filter data before feeding it to a learning algorithm, some estimators in the library implement a transformer interface which defines a <em>transform()</em> method. It takes as input some new data, e.g., $X\\_test$ and yields as output a transformed version of $X\\_test$. Preprocessing, features selection, feature extraction and dimensionalty reduction algorithms are all provided as transformers within the library. "
   ]
  },
  {
   "cell_type": "markdown",
   "metadata": {},
   "source": [
    "## Train and Test Split\n",
    "\n",
    "The train and test split involves separating a dataset into two parts:\n",
    "\n",
    "* <b>Training Dataset.</b> The training dataset is used by the ML algorithm to train the model. \n",
    "* <b>Test Dataset.</b> The test dataset is held back and is used to evaluate the performance of the model.\n",
    "\n",
    "The rows assigned to each dataset are randomly selected. This is an attempt to ensure that the training and evaluation of a model is objective. If multiple algorithms are compared or multiple configurations of the same algorithm are compared, the same train and test split of the dataset should be used. This is to ensure that the comparison of performance is consistent. We can achieve this by seeding the random number generator the same way before splitting the data, or by holding the same split of the dataset for use by multiple algorithms."
   ]
  },
  {
   "cell_type": "code",
   "execution_count": 2,
   "metadata": {},
   "outputs": [],
   "source": [
    "from random import seed\n",
    "from sklearn.datasets import load_iris\n",
    "import numpy as np\n",
    "from numpy.random import choice\n",
    "import pandas as pd\n",
    "from math import floor\n",
    "\n",
    "# Split a dataset into a train and test set\n",
    "def train_test_split(dataset, split=0.60):\n",
    "    '''\n",
    "    Splitting dataset in train and test data.\n",
    "        \n",
    "    Parameters\n",
    "    ----------\n",
    "    dataset : the dataset to be splitted\n",
    "    split : the ratio of data in the train data (default: 0.6)\n",
    "    Returns\n",
    "    -------\n",
    "    train_data, test_data: datasets containing the train data, respectively, test data \n",
    "    '''\n",
    "    n, p = dataset.shape\n",
    "    n_train = floor(n*split)\n",
    "    train_idx = choice(np.arange(n), replace=False, size=n_train)\n",
    "    test_idx = np.setdiff1d(np.arange(n), train_idx)\n",
    "    train_data = dataset.iloc[train_idx, :]\n",
    "    test_data = dataset.iloc[test_idx, :]\n",
    "    return train_data, test_data"
   ]
  },
  {
   "cell_type": "code",
   "execution_count": 3,
   "metadata": {},
   "outputs": [
    {
     "name": "stdout",
     "output_type": "stream",
     "text": [
      "(90, 5)\n",
      "(60, 5)\n",
      "     sepal length (cm)  sepal width (cm)  petal length (cm)  petal width (cm)  \\\n",
      "72                 6.3               2.5                4.9               1.5   \n",
      "107                7.3               2.9                6.3               1.8   \n",
      "71                 6.1               2.8                4.0               1.3   \n",
      "27                 5.2               3.5                1.5               0.2   \n",
      "47                 4.6               3.2                1.4               0.2   \n",
      "\n",
      "     species  \n",
      "72       1.0  \n",
      "107      2.0  \n",
      "71       1.0  \n",
      "27       0.0  \n",
      "47       0.0  \n",
      "    sepal length (cm)  sepal width (cm)  petal length (cm)  petal width (cm)  \\\n",
      "0                 5.1               3.5                1.4               0.2   \n",
      "2                 4.7               3.2                1.3               0.2   \n",
      "3                 4.6               3.1                1.5               0.2   \n",
      "10                5.4               3.7                1.5               0.2   \n",
      "13                4.3               3.0                1.1               0.1   \n",
      "\n",
      "    species  \n",
      "0       0.0  \n",
      "2       0.0  \n",
      "3       0.0  \n",
      "10      0.0  \n",
      "13      0.0  \n"
     ]
    }
   ],
   "source": [
    "# test train/test split\n",
    "#example: iris data\n",
    "#http://scikit-learn.org/stable/modules/generated/sklearn.datasets.load_iris.html#sklearn.datasets.load_iris\n",
    "seed(42)\n",
    "iris = load_iris()\n",
    "X_data = iris.data\n",
    "target_data = iris.target.reshape(-1,1)\n",
    "iris_data = np.c_[X_data, target_data]\n",
    "def flatten(l): return flatten(l[0]) + (flatten(l[1:]) if len(l) > 1 else []) if type(l) is list else [l]\n",
    "colnames = [iris.feature_names, 'species']\n",
    "colnames = flatten(colnames)\n",
    "iris_data = pd.DataFrame(iris_data)\n",
    "iris_data.columns = colnames\n",
    "\n",
    "iris_train, iris_test = train_test_split(dataset = iris_data)\n",
    "\n",
    "print(iris_train.shape)\n",
    "print(iris_test.shape)\n",
    "\n",
    "print(iris_train.head(n=5))\n",
    "print(iris_test.head(n=5))"
   ]
  },
  {
   "cell_type": "markdown",
   "metadata": {},
   "source": [
    "## K-fold Cross Validation Split\n",
    "\n",
    "A limitation of using the train and test split method is that we get a noisy estimate of algorithm performance.\n",
    "\n",
    "Therefore, the $\\textbf{k-fold cross validation}$ method has been introduced. It is also called just $\\textit{cross validation}$. Cross validation is a resampling method that provides a more accurate estimate of an algorithm performance.\n",
    "\n",
    "It does this by first splitting the data into $k$ groups. The algorithm is then trained and evaluated $k$ times and the performance summarized by taking the mean performance score. Each group of data is called a fold, hence the name $k$-fold cross-validation.\n",
    "\n",
    "It works by first training the algorithm on the $k-1$ groups of the data and evaluating it on the $k$-th hold-out group as the test set. This is repeated so that each of the $k$ groups is given an opportunity to be held out and used as the test set.\n",
    "\n",
    "As such, the value of $k$ should be divisible by the number of rows in your training dataset, to ensure each of the $k$ groups has the same number of rows.\n",
    "\n",
    "You should choose a value for $k$ that splits the data into groups with enough rows that each group is still representative of the original dataset. A good default to use is k=3 for a small dataset or k=10 for a larger dataset. A quick way to check if the fold sizes are representative is to calculate summary statistics such as mean and standard deviation and see how much the values differ from the same statistics on the whole dataset.\n",
    "\n",
    "We can reuse what we learned in the previous section in creating a train and test split here in implementing $k$-fold cross validation.\n",
    "\n",
    "Instead of two groups, we must return $k$-folds or $k$ groups of data."
   ]
  },
  {
   "cell_type": "code",
   "execution_count": 4,
   "metadata": {},
   "outputs": [],
   "source": [
    "##task 2 - implement k-fold cross-validation\n",
    "from random import seed\n",
    "from sklearn.datasets import load_iris\n",
    "import numpy as np\n",
    "from numpy.random import choice\n",
    "import pandas as pd\n",
    "from math import floor\n",
    "\n",
    "# Split a dataset into k folds\n",
    "def cross_validation_split(dataset, folds=3):\n",
    "    '''\n",
    "    Generating a cross validation split of a datasets. \n",
    "    The function splits the data into k-folds with k \n",
    "    being the number of folds.\n",
    "        \n",
    "    Parameters\n",
    "    ----------\n",
    "    dataset : dataset which is splitted\n",
    "    folds: number of folds (default: 3)\n",
    "    Returns\n",
    "    -------\n",
    "    dataset_split: a list containing the separated folds\n",
    "    '''\n",
    "    n, p = dataset.shape\n",
    "    #create empty dictionary which stores all folds\n",
    "    k_folds = {fold: None for fold in map('fold{}'.format, range(1, folds+1))} \n",
    "    #compute split ratio for each cross-validation fold by ((k-1)/k * n) / n\n",
    "    split_ratio =  ((folds-1)/folds * n)/n\n",
    "    #for each fold call train_test_split function\n",
    "    for fold in k_folds:\n",
    "        train_data, test_data = train_test_split(dataset = dataset, split = split_ratio)\n",
    "        k_folds[fold] = {\"train\":train_data, \"test\":test_data}\n",
    "    return k_folds"
   ]
  },
  {
   "cell_type": "code",
   "execution_count": 5,
   "metadata": {},
   "outputs": [
    {
     "name": "stdout",
     "output_type": "stream",
     "text": [
      "(112, 5)\n",
      "     sepal length (cm)  sepal width (cm)  petal length (cm)  petal width (cm)  \\\n",
      "131                7.9               3.8                6.4               2.0   \n",
      "120                6.9               3.2                5.7               2.3   \n",
      "50                 7.0               3.2                4.7               1.4   \n",
      "43                 5.0               3.5                1.6               0.6   \n",
      "126                6.2               2.8                4.8               1.8   \n",
      "\n",
      "     species  \n",
      "131      2.0  \n",
      "120      2.0  \n",
      "50       1.0  \n",
      "43       0.0  \n",
      "126      2.0  \n",
      "(38, 5)\n",
      "    sepal length (cm)  sepal width (cm)  petal length (cm)  petal width (cm)  \\\n",
      "0                 5.1               3.5                1.4               0.2   \n",
      "2                 4.7               3.2                1.3               0.2   \n",
      "9                 4.9               3.1                1.5               0.1   \n",
      "21                5.1               3.7                1.5               0.4   \n",
      "25                5.0               3.0                1.6               0.2   \n",
      "\n",
      "    species  \n",
      "0       0.0  \n",
      "2       0.0  \n",
      "9       0.0  \n",
      "21      0.0  \n",
      "25      0.0  \n",
      "(112, 5)\n",
      "     sepal length (cm)  sepal width (cm)  petal length (cm)  petal width (cm)  \\\n",
      "57                 4.9               2.4                3.3               1.0   \n",
      "26                 5.0               3.4                1.6               0.4   \n",
      "22                 4.6               3.6                1.0               0.2   \n",
      "137                6.4               3.1                5.5               1.8   \n",
      "94                 5.6               2.7                4.2               1.3   \n",
      "\n",
      "     species  \n",
      "57       1.0  \n",
      "26       0.0  \n",
      "22       0.0  \n",
      "137      2.0  \n",
      "94       1.0  \n",
      "(38, 5)\n",
      "    sepal length (cm)  sepal width (cm)  petal length (cm)  petal width (cm)  \\\n",
      "6                 4.6               3.4                1.4               0.3   \n",
      "9                 4.9               3.1                1.5               0.1   \n",
      "11                4.8               3.4                1.6               0.2   \n",
      "15                5.7               4.4                1.5               0.4   \n",
      "25                5.0               3.0                1.6               0.2   \n",
      "\n",
      "    species  \n",
      "6       0.0  \n",
      "9       0.0  \n",
      "11      0.0  \n",
      "15      0.0  \n",
      "25      0.0  \n"
     ]
    }
   ],
   "source": [
    "# test cross validation split\n",
    "iris_folds = cross_validation_split(iris_data, folds=4)\n",
    "\n",
    "print(iris_folds[\"fold1\"][\"train\"].shape)\n",
    "print(iris_folds[\"fold1\"][\"train\"].head())\n",
    "print(iris_folds[\"fold1\"][\"test\"].shape)\n",
    "print(iris_folds[\"fold1\"][\"test\"].head())\n",
    "\n",
    "\n",
    "print(iris_folds[\"fold2\"][\"train\"].shape)\n",
    "print(iris_folds[\"fold2\"][\"train\"].head())\n",
    "print(iris_folds[\"fold2\"][\"test\"].shape)\n",
    "print(iris_folds[\"fold2\"][\"test\"].head())"
   ]
  },
  {
   "cell_type": "markdown",
   "metadata": {},
   "source": [
    "## Learning curves by the number of training examples\n",
    "We now know how to use cross-validation which can be used to estimate of a model's generalization performance. Another way is to look at the <i>learning curves</i>. These are plots of the model's performance on the training set and the validation set <b>as a function of the training set size</b>. \n",
    "\n",
    "## TASKS\n",
    "* Overall Goal: train a model (scikit-learn model, e.g., LinearRegression) several times on different sized subsets of one training set. Plot the performance on the training set and the validation as a function of the training set size.\n",
    "\n",
    "Steps to go:\n",
    "\n",
    "* split the dataset into a training and test dataset\n",
    "* iterate the size of the training data\n",
    "* train the model being attached as a parameter and evaluate the training error, respectively, the error on the test data\n",
    "* plot the training error and test error (y-axis) by the size of the training set (x-axis) which has been used for training"
   ]
  },
  {
   "cell_type": "code",
   "execution_count": 6,
   "metadata": {},
   "outputs": [
    {
     "data": {
      "text/plain": [
       "<matplotlib.collections.PathCollection at 0x1fb95467128>"
      ]
     },
     "execution_count": 6,
     "metadata": {},
     "output_type": "execute_result"
    },
    {
     "data": {
      "image/png": "[encoded data removed]",
      "text/plain": [
       "<matplotlib.figure.Figure at 0x1fb91c80eb8>"
      ]
     },
     "metadata": {},
     "output_type": "display_data"
    }
   ],
   "source": [
    "from sklearn.metrics import mean_squared_error\n",
    "from sklearn.model_selection import train_test_split\n",
    "import numpy as np\n",
    "np.random.seed(42)\n",
    "import matplotlib.pyplot as plt\n",
    "%matplotlib inline\n",
    "\n",
    "# number of instances\n",
    "m = 100\n",
    "# dataset\n",
    "X = 6 * np.random.rand(m, 1) - 3\n",
    "y = 0.5 * X**2 + X + 2 + np.random.randn(m, 1)\n",
    "# plot\n",
    "plt.figure()\n",
    "plt.scatter(np.sort(X), np.sort(y))"
   ]
  },
  {
   "cell_type": "code",
   "execution_count": 13,
   "metadata": {},
   "outputs": [],
   "source": [
    "def plot_learning_curve(model,X,y):\n",
    "    '''\n",
    "    Generating a plot of a learning curve\n",
    "        \n",
    "    Parameters\n",
    "    ----------\n",
    "    model : model which is used for training the dataset\n",
    "    X: dataset\n",
    "    y: labels     \n",
    "    '''\n",
    "    x_train, x_test, y_train, y_test = train_test_split(X, y, test_size=0.2)\n",
    "    train_error, test_error = [], []\n",
    "    for m in range(1, len(x_train)):\n",
    "        model.fit(x_train[:m], y_train[:m])\n",
    "        y_train_predict = model.predict(x_train[:m])\n",
    "        y_test_prefict  = model.predict(x_test)\n",
    "        train_error.append(mean_squared_error(y_train_predict, y_train[:m]))\n",
    "        test_error.append(mean_squared_error(y_test_prefict, y_test))\n",
    "        \n",
    "    plt.plot(np.sqrt(train_error), 'r-', label='train')\n",
    "    plt.plot(np.sqrt(test_error), 'b--', label='test')\n",
    "    plt.legend(loc='upper right')\n",
    "    "
   ]
  },
  {
   "cell_type": "code",
   "execution_count": 14,
   "metadata": {},
   "outputs": [
    {
     "data": {
      "image/png": "[encoded data removed]",
      "text/plain": [
       "<matplotlib.figure.Figure at 0x1fb95ad75c0>"
      ]
     },
     "metadata": {},
     "output_type": "display_data"
    }
   ],
   "source": [
    "# Example for calling the function\n",
    "from sklearn.linear_model import LinearRegression\n",
    "ml_model = LinearRegression()\n",
    "plot_learning_curve(ml_model, X,y)"
   ]
  },
  {
   "cell_type": "markdown",
   "metadata": {},
   "source": [
    "# Regularized linear models\n",
    "in the lecture as well as in the introduction to tensorflow, we have already seen a linear regression model. Here a short recap: the prediction of a linear regression model can be formulated as:\n",
    "\n",
    "$$\n",
    "\\hat{y} = h_\\theta (\\mathbf{x}) = \\theta_0 + \\theta_1 x_1 + \\ldots + \\theta_n x_n = \\theta^{T} \\cdot \\mathbf{x}\n",
    "$$\n",
    "\n",
    ", where $\\hat{y}$ is the predicted value, $n$ the number of features and $\\theta_j$ is the $j$-th model parameter.\n",
    "To measure how well (or poorly) the model fits the training data we can use the Mean Square Error. Hence, our goal is to find a value of $\\theta$ that minimizes the MSE.\n",
    "\n",
    "$$\n",
    "MSE (\\mathbf{X}, h_\\theta) = \\frac{1}{m} \\sum_{i=1}^{m} (\\theta^{T} \\cdot x^i - y^i)^2\n",
    "$$\n",
    "\n",
    "One way to reduce overfitting is to regularize the model, i.e., to constrain it in its degrees of freedom. For a linear model, regularization means constraining the weights of the model. In this part of this tutorial, we will take a look at two common regularizations, called Ridge Regression and Lasso Regression."
   ]
  },
  {
   "cell_type": "markdown",
   "metadata": {},
   "source": [
    "Let's say the following dataset is given:"
   ]
  },
  {
   "cell_type": "code",
   "execution_count": 8,
   "metadata": {},
   "outputs": [
    {
     "data": {
      "image/png": "[encoded data removed]",
      "text/plain": [
       "<matplotlib.figure.Figure at 0x12d7bd38630>"
      ]
     },
     "metadata": {},
     "output_type": "display_data"
    }
   ],
   "source": [
    "import numpy as np\n",
    "import matplotlib.pyplot as plt\n",
    "\n",
    "\n",
    "np.random.seed(42)\n",
    "m = 100\n",
    "X = 6 * np.random.rand(m, 1)\n",
    "y = 1 + 0.5 * X + .85 * np.random.randn(m, 1)\n",
    "plt.figure()\n",
    "plt.scatter(X,y)\n",
    "\n",
    "from sklearn.linear_model import Ridge"
   ]
  },
  {
   "cell_type": "markdown",
   "metadata": {},
   "source": [
    "### TASKS\n",
    "In the following the method plot_model shall be implemented. A model and various alphas for the regularizations are in the parameter list. Therefore, we iterate the alphas and apply them to the model. We use the sklearn framework described in the very beginning of this tutorial. We train the model (method to train a model in sklearn is the <em>fit()</em> method) on the dataset given above and calculate the predicted values (<em>predict()</em>). Lastly, we plot the models to see how well (or poor) the model fits the data."
   ]
  },
  {
   "cell_type": "code",
   "execution_count": 9,
   "metadata": {
    "collapsed": true
   },
   "outputs": [],
   "source": [
    "def plot_model(model_class, alphas, **model_kargs):\n",
    "    \n",
    "    #Split data into train and test\n",
    "    X_train, X_test, y_train, y_test = train_test_split(X, y, test_size= 0.4, random_state=42)\n",
    "    performance_measure = [None] * len(alphas)\n",
    "    i = 0\n",
    "    for alpha in alphas:\n",
    "        #define learner\n",
    "        ridge_regression = Ridge(alpha=alpha)\n",
    "        #fit learner\n",
    "        ridge_regression.fit(X_train, y_train)\n",
    "        #predict test data\n",
    "        y_pred = ridge_regression.predict(X_test)\n",
    "        performance_measure[i] = mean_squared_error(y_test, y_pred)\n",
    "        print(\"Ridge Regression, alpha: \", alpha)\n",
    "        print(\"Mean Squared Error: \", mean_squared_error(y_test, y_pred))\n",
    "        i += 1\n",
    "        # Plot outputs\n",
    "        plt.scatter(X_test, y_test,  color='black')\n",
    "        plt.plot(X_test, y_pred, color='blue', linewidth=1)\n",
    "        plt.show()"
   ]
  },
  {
   "cell_type": "markdown",
   "metadata": {},
   "source": [
    "### Ridge Regression\n",
    "Ridge regression - also called Tikhonov regularization - performs a L2 regularization. That is to say it adds a penalty equivalent to the <b>square of the magnitude</b> of coefficients, i.e. the regularization term equal to $\\alpha \\sum_{i=1}^{n} \\theta_i^2$ is added to the cost function. \n",
    "\n",
    "$$\n",
    "J(\\theta) = MSE(\\theta) + \\alpha \\sum_{i=1}^{n} \\theta_i^2\n",
    "$$\n",
    "\n",
    "This forces the learning algorithm to keep the weights as small as possible. The hyperparameter $\\alpha$ controls how much the model is regularized. For $\\alpha=0$ Ridge Regression becomes Linear Regression. For a very large value for $\\alpha$, all weights end up very close to zero and the result is a flat line going through the data's mean. "
   ]
  },
  {
   "cell_type": "code",
   "execution_count": 10,
   "metadata": {},
   "outputs": [
    {
     "name": "stdout",
     "output_type": "stream",
     "text": [
      "Ridge Regression, alpha:  0\n",
      "Mean Squared Error:  0.5006061883685795\n"
     ]
    },
    {
     "data": {
      "image/png": "[encoded data removed]",
      "text/plain": [
       "<matplotlib.figure.Figure at 0x12d7bf2e908>"
      ]
     },
     "metadata": {},
     "output_type": "display_data"
    },
    {
     "name": "stdout",
     "output_type": "stream",
     "text": [
      "Ridge Regression, alpha:  10\n",
      "Mean Squared Error:  0.5118920112361351\n"
     ]
    },
    {
     "data": {
      "image/png": "[encoded data removed]",
      "text/plain": [
       "<matplotlib.figure.Figure at 0x12d7c04d278>"
      ]
     },
     "metadata": {},
     "output_type": "display_data"
    },
    {
     "name": "stdout",
     "output_type": "stream",
     "text": [
      "Ridge Regression, alpha:  100\n",
      "Mean Squared Error:  0.6460283478380153\n"
     ]
    },
    {
     "data": {
      "image/png": "[encoded data removed]",
      "text/plain": [
       "<matplotlib.figure.Figure at 0x12d7bfc5518>"
      ]
     },
     "metadata": {},
     "output_type": "display_data"
    }
   ],
   "source": [
    "from sklearn.linear_model import Ridge\n",
    "plot_model(Ridge, alphas=(0, 10, 100))"
   ]
  },
  {
   "cell_type": "markdown",
   "metadata": {},
   "source": [
    "### LASSO Regression \n",
    "Least Absolute Shrinkage and Selection Operator - for short LASSO - regression performs a L1 regularization. That is to say it adds a penalty equivalent to the <b>abolute value of the magnitude</b> of coefficients, i.e., the penalty term $\\alpha \\sum_{i=1}^n |\\theta_i|$ is added to the cost function.\n",
    "\n",
    "$$\n",
    "J(\\theta) = MSE(\\theta) + \\alpha \\sum_{i=1}^n |\\theta_i|\n",
    "$$\n",
    "\n",
    "One major characteristic of Lasso Regression is that it tends to eliminiate weights of the least important features and sets them to zero."
   ]
  },
  {
   "cell_type": "code",
   "execution_count": 11,
   "metadata": {},
   "outputs": [
    {
     "name": "stdout",
     "output_type": "stream",
     "text": [
      "Ridge Regression, alpha:  0\n",
      "Mean Squared Error:  0.5006061883685795\n"
     ]
    },
    {
     "data": {
      "image/png": "[encoded data removed]",
      "text/plain": [
       "<matplotlib.figure.Figure at 0x12d7bd33630>"
      ]
     },
     "metadata": {},
     "output_type": "display_data"
    },
    {
     "name": "stdout",
     "output_type": "stream",
     "text": [
      "Ridge Regression, alpha:  0.1\n",
      "Mean Squared Error:  0.500706239159903\n"
     ]
    },
    {
     "data": {
      "image/png": "[encoded data removed]",
      "text/plain": [
       "<matplotlib.figure.Figure at 0x12d7bd52080>"
      ]
     },
     "metadata": {},
     "output_type": "display_data"
    },
    {
     "name": "stdout",
     "output_type": "stream",
     "text": [
      "Ridge Regression, alpha:  1\n",
      "Mean Squared Error:  0.5016198647977158\n"
     ]
    },
    {
     "data": {
      "image/png": "[encoded data removed]",
      "text/plain": [
       "<matplotlib.figure.Figure at 0x12d7c31b5f8>"
      ]
     },
     "metadata": {},
     "output_type": "display_data"
    }
   ],
   "source": [
    "from sklearn.linear_model import Lasso\n",
    "plot_model(Lasso, alphas=(0, 0.1, 1))"
   ]
  },
  {
   "cell_type": "markdown",
   "metadata": {},
   "source": [
    "Feel free to play around with other models and their regularizations.\n",
    "\n",
    "# End of this tutorial"
   ]
  }
 ],
 "metadata": {
  "kernelspec": {
   "display_name": "Python 3",
   "language": "python",
   "name": "python3"
  },
  "language_info": {
   "codemirror_mode": {
    "name": "ipython",
    "version": 3
   },
   "file_extension": ".py",
   "mimetype": "text/x-python",
   "name": "python",
   "nbconvert_exporter": "python",
   "pygments_lexer": "ipython3",
   "version": "3.6.2"
  }
 },
 "nbformat": 4,
 "nbformat_minor": 2
}
