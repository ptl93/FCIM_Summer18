{
 "cells": [
  {
   "cell_type": "markdown",
   "metadata": {},
   "source": [
    "## Implementation of Perceptron for classification  \n",
    "### Author: Tuan Le  \n",
    "### Email: tuanle@hotmail.de"
   ]
  },
  {
   "cell_type": "markdown",
   "metadata": {},
   "source": [
    "The perceptron is a linear classifier for a binary classification. In this case the target variable $y \\in \\{-1,+1\\}$.   \n",
    "Suppose we have some input data $\\mathbf{x} \\in \\mathbb{R}^M$ then we need to find a weight vector $\\mathbf{w}$ which will encourage our linear mapping $m = \\mathbf{w}'\\mathbf{x}$.   \n",
    "Now this $m$ is in the space $\\mathbb{R}$. Since our targets are either $+1$ or $-1$ we put our weighted sum $m$ to the $sign(\\cdot)$ function, where $sign(m) = -1$ if $m<0$ and $sign(m) = +1$ if $m>1$.  \n",
    "Hence our perceptron predict the target with: $\\hat{y_t} = sign(m_t) = sign(\\mathbf{w}'\\mathbf{x_t})$  $\\forall t = 1,2,...,N$.  \n",
    "  \n",
    "The update rule is as follow:"
   ]
  },
  {
   "cell_type": "code",
   "execution_count": 1,
   "metadata": {},
   "outputs": [
    {
     "data": {
      "image/png": "[encoded data removed]",
      "text/plain": [
       "<IPython.core.display.Image object>"
      ]
     },
     "execution_count": 1,
     "metadata": {
      "image/png": {
       "height": 700,
       "width": 600
      }
     },
     "output_type": "execute_result"
    }
   ],
   "source": [
    "from IPython.display import Image\n",
    "Image(filename='perceptron_update.png', width=600, height=700) "
   ]
  },
  {
   "cell_type": "markdown",
   "metadata": {},
   "source": [
    "How is the seperating hyperplane $h$ defined? In general it holds that $h = \\mathbf{w'}\\mathbf{x}$ (note that the intercept is within the vector $\\mathbf{x}$).\n",
    "So by definitio a hyperplane has the following equation to fullfill: $h = \\mathbf{w'}\\mathbf{x} = w_0 + w_1*x_1 + w_2*x_2 \\overset{!}{=} 0$.  \n",
    "By knowing this with some little algebra the \"linear\" seperating hyperplane can be drawn with:  \n",
    "$$x_2 = -\\frac{w_0}{w_2} - \\frac{w_1}{w_2}x_1$$"
   ]
  },
  {
   "cell_type": "code",
   "execution_count": 2,
   "metadata": {},
   "outputs": [],
   "source": [
    "#Load all needed libraries:\n",
    "import numpy as np\n",
    "import random as rnd\n",
    "import matplotlib.pyplot as plt"
   ]
  },
  {
   "cell_type": "code",
   "execution_count": 3,
   "metadata": {},
   "outputs": [],
   "source": [
    "#Define Perceptron class:\n",
    "class Perceptron(object):\n",
    "    \"\"\"\n",
    "    Perceptron Classifier.\n",
    "    \n",
    "    Parameter\n",
    "    ---------\n",
    "    eta : float\n",
    "        Learning rate (between 0.0 and 1.0)\n",
    "    max_iter : int\n",
    "        Passes (epochs) over the training set.\n",
    "    \n",
    "    Attributes\n",
    "    ---------\n",
    "    w : 1d-numpy array\n",
    "        Weights after fitting.\n",
    "    eta: float\n",
    "        Learning rate\n",
    "    max_iter: int\n",
    "        maximal number of iterations\n",
    "    \"\"\"\n",
    "    \n",
    "    ### Constructor: ###\n",
    "    def __init__(self, eta=0.1, max_iter=1000):\n",
    "        '''\n",
    "        Init method for Perceptron.\n",
    "        \n",
    "        Parameters\n",
    "        ----------\n",
    "        eta : Learning rate\n",
    "        max_iter : Maximal iteration number\n",
    "            \n",
    "        Returns\n",
    "        -------\n",
    "        perceptron object : a perceptron object for classification\n",
    "        '''\n",
    "        self.eta = eta\n",
    "        self.max_iter = max_iter\n",
    "        self.weights = None\n",
    "        self.inter_weights = []\n",
    "      \n",
    "    ### Train method: ###\n",
    "    def train (self, X, Y):\n",
    "        '''\n",
    "        Training method for data.\n",
    "        \n",
    "        Parameters\n",
    "        ----------\n",
    "        X : Training vectors\n",
    "        y : Target values\n",
    "            \n",
    "        Returns\n",
    "        -------\n",
    "        w_ : 1d-array; Weights after fitting.\n",
    "        '''\n",
    "        \n",
    "        #Get sample information\n",
    "        (n_samples, n_features) = X.shape\n",
    "        #Initialize random weights element (including bias) \\in [0,1] for learning\n",
    "        self.weights = np.random.rand(n_features+1, 1)\n",
    "        #Concatenate 1 vector for bias modeling\n",
    "        X = np.c_[np.ones((n_samples, 1)), X]\n",
    "        #Compute prediction by applying sign function over weighted sum\n",
    "        weighted_sum = np.dot(X, self.weights)\n",
    "        Y_hat = np.sign(weighted_sum)\n",
    "        #Iterate over training set and apply learning rule:\n",
    "        for iteration in range(0, self.max_iter):\n",
    "            #If prediction is correct:break and go to next observation, note here vectors will be compared\n",
    "            if np.array_equal(Y, Y_hat): ## Vectorized comparison\n",
    "                break\n",
    "            #If there are misprediction iterate over full training sample (batch) and ...\n",
    "            for sample in range(0, n_samples):\n",
    "                if Y[sample] != Y_hat[sample]: # ... and apply weights learning for misclassified ones\n",
    "                    self.weights += self.eta * Y[sample] * X[sample][:, np.newaxis]\n",
    "                    self.inter_weights.append(np.copy(self.weights))\n",
    "                    Y_hat = np.sign(np.dot(X, self.weights))\n",
    "        return self.weights"
   ]
  },
  {
   "cell_type": "code",
   "execution_count": 4,
   "metadata": {},
   "outputs": [],
   "source": [
    "## Generate data function for learning:\n",
    "def generate_data(n, dim):\n",
    "    '''\n",
    "    Generating training data.\n",
    "        \n",
    "    Parameters\n",
    "    ----------\n",
    "    n : the number of samples \n",
    "    dim: number of features.\n",
    "\n",
    "    Returns\n",
    "    -------\n",
    "    X : training vectors\n",
    "    '''\n",
    "    #create half of n random numbers being element [-1,0]\n",
    "    X1 = np.random.rand(n//2, dim) - 1\n",
    "    #create another half of n random numbers being element [0,1]\n",
    "    X2 = np.random.rand(n - n//2, dim)\n",
    "    #row bind the data into one frame\n",
    "    X = np.r_[X1, X2]\n",
    "    #create -1 output values for half data to classify\n",
    "    Y1 = np.zeros((n - n//2, 1)) - 1\n",
    "    #create 1 output values for rest of half data to classify\n",
    "    Y2 = np.ones((n//2, 1))\n",
    "    #rowbind into one single vector\n",
    "    Y = np.r_[Y1, Y2]\n",
    "    return X, Y"
   ]
  },
  {
   "cell_type": "code",
   "execution_count": 5,
   "metadata": {},
   "outputs": [],
   "source": [
    "##Plot functions in two dimensional feature space\n",
    "def plot2D(X, Y, p):\n",
    "    '''\n",
    "    Plots the data points and the separating hyperplane in the two dimensional case\n",
    "    \n",
    "    Parameters\n",
    "    ----------\n",
    "    X: matrix containing the data points\n",
    "    Y: label of the data points\n",
    "    p: instance of trained perceptron model\n",
    "    '''\n",
    "    #create plot object\n",
    "    plt.figure()\n",
    "    #create scatterplot taking first two dimensions of X-Matrix\n",
    "    plt.scatter(X[:, 0], X[:, 1], c=Y.flatten())\n",
    "    #save inter_weights objects into variable\n",
    "    inter_weights = p.inter_weights\n",
    "    for index, weights in enumerate(inter_weights):\n",
    "        #slope a\n",
    "        a = float(- weights[1] / weights[2])\n",
    "        #intercept b\n",
    "        b = float(- weights[0] / weights[2])\n",
    "        x = [-1, 1]\n",
    "        y = [a*e+b for e in x]\n",
    "        eq = \"X2 = \" + str(round(b, 2)) + \" \" + str(round(a, 2)) + \"X1\"\n",
    "        if index == len(inter_weights) - 1:\n",
    "            plt.plot(x, y, \"r-\")\n",
    "            plt.title(s=eq)\n",
    "            plt.ylabel(\"X2\")\n",
    "            plt.xlabel(\"X1\")\n",
    "        else:\n",
    "            plt.plot(x, y, \"b--\")\n",
    "            plt.title(s=eq)\n",
    "            plt.ylabel(\"X2\")\n",
    "            plt.xlabel(\"X1\")\n",
    "    plt.show()"
   ]
  },
  {
   "cell_type": "code",
   "execution_count": 6,
   "metadata": {},
   "outputs": [
    {
     "name": "stdout",
     "output_type": "stream",
     "text": [
      "Printing generated data:\n",
      "[[-0.40572017 -0.11068579 -1.        ]\n",
      " [-0.7333036  -0.59304002 -1.        ]\n",
      " [-0.53205803 -0.77340988 -1.        ]\n",
      " [-0.19442029 -0.20589239 -1.        ]\n",
      " [-0.82918081 -0.63323365 -1.        ]\n",
      " [-0.12216851 -0.33534532 -1.        ]\n",
      " [-0.22825679 -0.34462194 -1.        ]\n",
      " [-0.78691869 -0.29667601 -1.        ]\n",
      " [-0.73842072 -0.55812424 -1.        ]\n",
      " [-0.59192787 -0.57093716 -1.        ]\n",
      " [ 0.57527428  0.03820516  1.        ]\n",
      " [ 0.45718786  0.91766526  1.        ]\n",
      " [ 0.9541599   0.66326727  1.        ]\n",
      " [ 0.8240262   0.24566242  1.        ]\n",
      " [ 0.18973242  0.15798229  1.        ]\n",
      " [ 0.97181555  0.66105002  1.        ]\n",
      " [ 0.96137159  0.71248522  1.        ]\n",
      " [ 0.50750995  0.3713105   1.        ]\n",
      " [ 0.57698156  0.47594569  1.        ]\n",
      " [ 0.08177568  0.12931864  1.        ]]\n"
     ]
    },
    {
     "data": {
      "image/png": "[encoded data removed]",
      "text/plain": [
       "<matplotlib.figure.Figure at 0x7fbbf959bf60>"
      ]
     },
     "metadata": {},
     "output_type": "display_data"
    }
   ],
   "source": [
    "##Apply learning:\n",
    "\n",
    "#1) generate random data: 20 observations and 2 features \n",
    "rnd.seed(123)\n",
    "X, Y = generate_data(20, 2)\n",
    "print(\"Printing generated data:\")\n",
    "print(np.column_stack([X,Y]))\n",
    "\n",
    "#2) Peceptron:\n",
    "#a) create object\n",
    "perceptron = Perceptron()\n",
    "#b) call method to train on X and Y data\n",
    "perceptron.train(X, Y)\n",
    "#c) plot the results\n",
    "plot2D(X, Y, perceptron)"
   ]
  },
  {
   "cell_type": "code",
   "execution_count": 7,
   "metadata": {},
   "outputs": [],
   "source": [
    "## END ##"
   ]
  },
  {
   "cell_type": "code",
   "execution_count": null,
   "metadata": {},
   "outputs": [],
   "source": []
  }
 ],
 "metadata": {
  "kernelspec": {
   "display_name": "Python 3",
   "language": "python",
   "name": "python3"
  },
  "language_info": {
   "codemirror_mode": {
    "name": "ipython",
    "version": 3
   },
   "file_extension": ".py",
   "mimetype": "text/x-python",
   "name": "python",
   "nbconvert_exporter": "python",
   "pygments_lexer": "ipython3",
   "version": "3.6.4"
  }
 },
 "nbformat": 4,
 "nbformat_minor": 2
}
