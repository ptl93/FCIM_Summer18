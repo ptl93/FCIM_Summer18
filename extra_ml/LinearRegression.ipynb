{
 "cells": [
  {
   "cell_type": "markdown",
   "metadata": {},
   "source": [
    "**Author**: Tuan Le   \n",
    "**Mail**: <tuanle@hotmail.de>  \n",
    "**Script**: `LinearRegression.ipynb`  "
   ]
  },
  {
   "cell_type": "markdown",
   "metadata": {},
   "source": [
    "### Method 1: (stable) normal equations: ###\n",
    "When we have the (multiple) linear model and assuming $\\mathbf{\\theta}$ already includes the bias term, hence dim($\\theta$) = p+1, we obtain following model: $$ (I):\\mathbf{y} = \\mathbf{X}\\mathbf{\\theta}$$  \n",
    "It turns out that with some linear algebra minimizing the L2 (sum of squares error) objective function:  \n",
    "$$ (II):L(\\mathbf{\\theta}) = \\frac{1}{2}(\\mathbf{y} - \\mathbf{X}\\mathbf{\\theta})'(\\mathbf{y} - \\mathbf{X}\\mathbf{\\theta})$$\n",
    "\n",
    "We obtain [derivation](https://eli.thegreenplace.net/2014/derivation-of-the-normal-equation-for-linear-regression):    \n",
    "$$(III): \\mathbf{\\theta} = (\\mathbf{X}'\\mathbf{X})^{-1}\\mathbf{X}'\\mathbf{y} $$  \n",
    "as solver of the loss function. It is recommendable instead of directly inverting the inner product $(\\mathbf{X}'\\mathbf{X})$ (note this involves 2 computations, first the inner product and second the inversion of the inner product) to use **QR-Decomposition** due to numerical stability:\n",
    "[stable Least Squares](http://genomicsclass.github.io/book/pages/qr_and_regression.html)."
   ]
  },
  {
   "cell_type": "markdown",
   "metadata": {},
   "source": [
    "### Method 2 (stochastic) gradient descent: ###\n",
    "Assuming we have to linear model in equation $(I)$, (stochastic) gradient descent tries to adjust the weights $\\mathbf{\\theta}$ in the next iteration/epoch, such that the loss **decreases**. For a detailed explanation have a look at following [link](https://towardsdatascience.com/gradient-descent-algorithm-and-its-variants-10f652806a3).  \n",
    "The update rule is as follows:  \n",
    "$$ (IV): \\mathbf{\\theta} \\leftarrow \\mathbf{\\theta} - \\alpha * \\nabla_{\\mathbf{\\theta}} L(\\mathbf{\\theta}) $$\n",
    "where the gradient is taken with respect to the weights vector $\\mathbf{\\theta}$.\n",
    "After computing the gradient it turns out that the gradient is equal to:  \n",
    "\n",
    "$$\\nabla_{\\mathbf{\\theta}} L(\\mathbf{\\theta}) = -\\mathbf{X}'\\mathbf{y} + \\mathbf{X}'\\mathbf{X}\\mathbf{\\theta}$$  \n",
    "$$\\nabla_{\\mathbf{\\theta}} L(\\mathbf{\\theta}) = -\\mathbf{X}'[\\mathbf{y} - \\mathbf{X}\\mathbf{\\theta}]$$  \n",
    "$$\\nabla_{\\mathbf{\\theta}} L(\\mathbf{\\theta}) = -\\mathbf{X}'[\\mathbf{y} - \\hat{\\mathbf{y}}]$$  \n",
    "and hence the gradient update as follows:\n",
    "$$\\mathbf{\\theta} \\leftarrow \\mathbf{\\theta} - \\alpha * ( -\\mathbf{X}'[\\mathbf{y} - \\mathbf{X}\\mathbf{\\theta}] )$$\n",
    "$$\\mathbf{\\theta} \\leftarrow \\mathbf{\\theta} + \\alpha * \\mathbf{X}'[\\mathbf{y} - \\mathbf{X}\\mathbf{\\theta}]$$\n",
    "$$\\mathbf{\\theta} \\leftarrow \\mathbf{\\theta} + \\alpha * \\mathbf{X}'[\\mathbf{y} - \\hat{\\mathbf{y}}]$$  \n",
    "\n",
    "  \n",
    "in order to have stable gradient updates take the average gradient. (Note as long as the update rule is **proportional** to the original gradient, it is all fine. Hence we have:\n",
    "$$\\mathbf{\\theta} \\leftarrow \\mathbf{\\theta} + \\alpha * \\frac{1}{n} \\mathbf{X}'[\\mathbf{y} - \\hat{\\mathbf{y}}]$$  "
   ]
  },
  {
   "cell_type": "markdown",
   "metadata": {},
   "source": [
    "### Implementation of `MyLinearRegression` object: ###"
   ]
  },
  {
   "cell_type": "code",
   "execution_count": 1,
   "metadata": {},
   "outputs": [],
   "source": [
    "import numpy as np\n",
    "from numpy.linalg import inv, qr\n",
    "from numpy import transpose \n",
    "import matplotlib.pyplot as plt"
   ]
  },
  {
   "cell_type": "code",
   "execution_count": 2,
   "metadata": {},
   "outputs": [],
   "source": [
    "class MyLinearRegression():\n",
    "    \n",
    "    ### Constructor ###\n",
    "    def __init__(self, X, y):\n",
    "        '''\n",
    "        Init method for LinearRegression Object. \n",
    "        \n",
    "        Parameters:\n",
    "        X: Numpy Feature matrix (without intercept)\n",
    "        y: target vector\n",
    "        \n",
    "        Returns:\n",
    "        LinearRegression object with saved data\n",
    "        '''\n",
    "        self.X = X\n",
    "        self.n = X.shape[0]\n",
    "        self.p = X.shape[1] + 1\n",
    "        self.y = y.reshape((self.n, 1))\n",
    "        \n",
    "    ### Methods ###\n",
    "    \n",
    "    def empirical_risk(self, X, y, w):\n",
    "        '''\n",
    "        Computes L2 empirical risk\n",
    "        \n",
    "        Paramaters\n",
    "        ----------\n",
    "        X : Feature matrix\n",
    "        y : target vector\n",
    "        w : weight vector\n",
    "        \n",
    "        Returns\n",
    "        -------\n",
    "        Empirical Risk from the dataset\n",
    "        '''\n",
    "        \n",
    "        residuals = np.square(y - np.matmul(X, w))\n",
    "        empirical_risk = 0.5*np.sum(residuals)\n",
    "        \n",
    "        return empirical_risk\n",
    "    \n",
    "    def l2_deriv(self, y, y_hat, X):\n",
    "        '''\n",
    "        Computes the derivative of the L2 loss wrt. the weights\n",
    "        \n",
    "        Paramaters\n",
    "        ----------\n",
    "        y : true target vector\n",
    "        y_hat : predicted target vector\n",
    "        X : Feature matrix\n",
    "        \n",
    "        Returns\n",
    "        -------\n",
    "        (averaged) derivative of loss wrt. to weights\n",
    "        '''\n",
    "        a = y - y_hat\n",
    "        grad = -1*np.matmul(X.T, a)\n",
    "        avg_grad = 1/self.n * grad\n",
    "        return avg_grad\n",
    "        \n",
    "        \n",
    "    def predict(self, X):\n",
    "        '''\n",
    "        Computes the the prediction\n",
    "        \n",
    "        Paramaters\n",
    "        ----------\n",
    "        X : Feature matrix\n",
    "        \n",
    "        Returns\n",
    "        -------\n",
    "        (averaged) derivative of loss wrt. to weights\n",
    "        '''\n",
    "        y_hat = np.matmul(X, self.w)\n",
    "        y_hat = y_hat.reshape((len(y_hat), 1))\n",
    "        \n",
    "        return y_hat\n",
    "\n",
    "\n",
    "    def train(self, max_iter, optim = \"GD\", mini_batch_size = None, lr = 0.01):\n",
    "        '''\n",
    "        Computes the derivative of the L2 loss wrt. the weights\n",
    "        \n",
    "        Paramaters\n",
    "        ----------\n",
    "        max_iter : Maximal number of iterations (for weight update)\n",
    "        optim : Optimization method. Either Gradient Descent 'GD' or Stochastic Gradient Descent 'SGD' \n",
    "        mini_batch_size : size of mini batch for stochastic gradient descent\n",
    "        lr : learning rate for weight update\n",
    "        \n",
    "        Returns\n",
    "        -------\n",
    "        None\n",
    "        '''\n",
    "        ## Concatenate intercept into feature matrix\n",
    "        self.X = np.column_stack((np.ones(shape=(self.n,1)), self.X))\n",
    "        ## Init random weights\n",
    "        self.w = np.random.normal(size=self.p)\n",
    "        self.w = self.w.reshape((self.p, 1))\n",
    "        ## Init loss history\n",
    "        self.loss_history = np.zeros(max_iter)\n",
    "        ## Train the LinearRegression Model with Method 2\n",
    "        for i in range(max_iter):\n",
    "            y_hat = self.predict(X=self.X)\n",
    "            self.loss_history[i] = self.empirical_risk(X=self.X, y=self.y, w=self.w)\n",
    "            if i % 10 == 0 or i == max_iter:\n",
    "                print(\"Empirical risk in iteration:\" + str(i) + \": \" + str(self.loss_history[i]))\n",
    "            if optim == \"GD\":\n",
    "                idx = np.arange(self.n)\n",
    "            elif optim == \"SGD\":\n",
    "                if mini_batch_size == None:\n",
    "                    mini_batch_size = int(np.ceil(self.n/4))\n",
    "                idx = np.random.choice(a=np.arange(self.n), size=mini_batch_size, replace=True)\n",
    "            grad = self.l2_deriv(y=self.y[idx], y_hat=y_hat[idx], X=self.X[idx,:])\n",
    "            self.w = self.w - lr*grad\n",
    "        \n",
    "        ## Method 1\n",
    "        ## unstable\n",
    "        self.w_unstable = inv(self.X.T.dot(self.X))\n",
    "        self.w_unstable = self.w_unstable.dot(self.X.T)\n",
    "        self.w_unstable = self.w_unstable.dot(self.y)\n",
    "        \n",
    "        ##stable with QR-decomposition\n",
    "        self.Q, self.R = qr(self.X)\n",
    "        self.w_stable = inv(self.R).dot(self.Q.T).dot(self.y)\n",
    "        \n",
    "    \n",
    "    def plot_history(self):\n",
    "        loss_history = np.array(self.loss_history).reshape(len(self.loss_history),1)\n",
    "        plt.plot(range(len(loss_history)),loss_history)\n",
    "        plt.show()\n",
    "        "
   ]
  },
  {
   "cell_type": "code",
   "execution_count": 3,
   "metadata": {},
   "outputs": [],
   "source": [
    "### Testing simple linear regression: ###\n",
    "X = np.random.uniform(low=-5, high=5, size=(200,1))\n",
    "weights = np.array([2])\n",
    "intercept = 3\n",
    "y = np.matmul(X, weights) + intercept + np.random.normal(size=200)"
   ]
  },
  {
   "cell_type": "code",
   "execution_count": 4,
   "metadata": {},
   "outputs": [
    {
     "name": "stderr",
     "output_type": "stream",
     "text": [
      "C:\\Users\\GIWRU\\AppData\\Local\\Continuum\\anaconda3\\lib\\site-packages\\sklearn\\model_selection\\_split.py:2069: FutureWarning: From version 0.21, test_size will always complement train_size unless both are specified.\n",
      "  FutureWarning)\n"
     ]
    }
   ],
   "source": [
    "from sklearn.model_selection import train_test_split\n",
    "\n",
    "X_train, X_test, y_train, y_test = train_test_split(X, y, train_size = 0.80)"
   ]
  },
  {
   "cell_type": "code",
   "execution_count": 5,
   "metadata": {},
   "outputs": [
    {
     "name": "stdout",
     "output_type": "stream",
     "text": [
      "(160, 1)\n",
      "(160,)\n"
     ]
    }
   ],
   "source": [
    "print(X_train.shape)\n",
    "print(y_train.shape)"
   ]
  },
  {
   "cell_type": "code",
   "execution_count": 6,
   "metadata": {},
   "outputs": [
    {
     "name": "stdout",
     "output_type": "stream",
     "text": [
      "(40, 1)\n",
      "(40,)\n"
     ]
    }
   ],
   "source": [
    "print(X_test.shape)\n",
    "print(y_test.shape)"
   ]
  },
  {
   "cell_type": "code",
   "execution_count": 7,
   "metadata": {},
   "outputs": [
    {
     "name": "stdout",
     "output_type": "stream",
     "text": [
      "Empirical risk in iteration:0: 5717.063743164057\n",
      "Empirical risk in iteration:10: 1258.7159092561697\n",
      "Empirical risk in iteration:20: 484.7776355382956\n",
      "Empirical risk in iteration:30: 320.45994319188526\n",
      "Empirical risk in iteration:40: 262.5352282440187\n",
      "Empirical risk in iteration:50: 227.63514258150957\n",
      "Empirical risk in iteration:60: 201.1256378566664\n",
      "Empirical risk in iteration:70: 179.77525696241855\n",
      "Empirical risk in iteration:80: 162.36663435047723\n",
      "Empirical risk in iteration:90: 148.13668499667773\n",
      "Empirical risk in iteration:100: 136.49922354903072\n",
      "Empirical risk in iteration:110: 126.98099222480064\n",
      "Empirical risk in iteration:120: 119.19591627485264\n",
      "Empirical risk in iteration:130: 112.82838381490195\n",
      "Empirical risk in iteration:140: 107.6202777111392\n",
      "Empirical risk in iteration:150: 103.36048420058694\n",
      "Empirical risk in iteration:160: 99.87633065994589\n",
      "Empirical risk in iteration:170: 97.02658549257727\n",
      "Empirical risk in iteration:180: 94.69573312503812\n",
      "Empirical risk in iteration:190: 92.78929151656567\n",
      "Empirical risk in iteration:200: 91.22998228818548\n",
      "Empirical risk in iteration:210: 89.95459821194103\n",
      "Empirical risk in iteration:220: 88.91144108034962\n",
      "Empirical risk in iteration:230: 88.05822609871458\n",
      "Empirical risk in iteration:240: 87.36036785393044\n",
      "Empirical risk in iteration:250: 86.78957838082482\n",
      "Empirical risk in iteration:260: 86.32272049809114\n",
      "Empirical risk in iteration:270: 85.94086993332041\n",
      "Empirical risk in iteration:280: 85.6285482199931\n",
      "Empirical risk in iteration:290: 85.37309527160147\n",
      "Empirical risk in iteration:300: 85.1641561999411\n",
      "Empirical risk in iteration:310: 84.99326157554489\n",
      "Empirical risk in iteration:320: 84.85348411594654\n",
      "Empirical risk in iteration:330: 84.73915788549432\n",
      "Empirical risk in iteration:340: 84.64564862436612\n",
      "Empirical risk in iteration:350: 84.56916589698021\n",
      "Empirical risk in iteration:360: 84.50660944516127\n",
      "Empirical risk in iteration:370: 84.45544351792611\n",
      "Empirical risk in iteration:380: 84.4135940837956\n",
      "Empirical risk in iteration:390: 84.37936475909298\n",
      "Empirical risk in iteration:400: 84.35136804434784\n",
      "Empirical risk in iteration:410: 84.32846908144597\n",
      "Empirical risk in iteration:420: 84.30973965169845\n",
      "Empirical risk in iteration:430: 84.29442055012294\n",
      "Empirical risk in iteration:440: 84.28189081076384\n",
      "Empirical risk in iteration:450: 84.27164253558706\n",
      "Empirical risk in iteration:460: 84.26326030662851\n",
      "Empirical risk in iteration:470: 84.25640434685951\n",
      "Empirical risk in iteration:480: 84.25079674718806\n",
      "Empirical risk in iteration:490: 84.24621020130172\n"
     ]
    }
   ],
   "source": [
    "my_lr = MyLinearRegression(X=X_train, y=y_train)\n",
    "my_lr.train(max_iter=500, lr=0.01, optim = \"GD\")"
   ]
  },
  {
   "cell_type": "code",
   "execution_count": 8,
   "metadata": {},
   "outputs": [
    {
     "data": {
      "image/png": "[encoded data removed]",
      "text/plain": [
       "<Figure size 432x288 with 1 Axes>"
      ]
     },
     "metadata": {
      "needs_background": "light"
     },
     "output_type": "display_data"
    }
   ],
   "source": [
    "my_lr.plot_history()"
   ]
  },
  {
   "cell_type": "code",
   "execution_count": 9,
   "metadata": {},
   "outputs": [
    {
     "name": "stdout",
     "output_type": "stream",
     "text": [
      "[[2.93951097]\n",
      " [2.02854632]]\n"
     ]
    }
   ],
   "source": [
    "print(my_lr.w)"
   ]
  },
  {
   "cell_type": "code",
   "execution_count": 10,
   "metadata": {},
   "outputs": [
    {
     "name": "stdout",
     "output_type": "stream",
     "text": [
      "[[2.95402477]\n",
      " [2.02858529]]\n"
     ]
    }
   ],
   "source": [
    "print(my_lr.w_stable)"
   ]
  },
  {
   "cell_type": "code",
   "execution_count": 11,
   "metadata": {},
   "outputs": [
    {
     "name": "stdout",
     "output_type": "stream",
     "text": [
      "[[2.95402477]\n",
      " [2.02858529]]\n"
     ]
    }
   ],
   "source": [
    "print(my_lr.w_unstable)"
   ]
  },
  {
   "cell_type": "markdown",
   "metadata": {},
   "source": [
    "### Check results from sklearn module: ###"
   ]
  },
  {
   "cell_type": "code",
   "execution_count": 12,
   "metadata": {},
   "outputs": [],
   "source": [
    "from sklearn.linear_model import LinearRegression"
   ]
  },
  {
   "cell_type": "code",
   "execution_count": 13,
   "metadata": {},
   "outputs": [],
   "source": [
    "lm = LinearRegression()\n",
    "model = lm.fit(X_train,y_train)"
   ]
  },
  {
   "cell_type": "code",
   "execution_count": 14,
   "metadata": {},
   "outputs": [
    {
     "name": "stdout",
     "output_type": "stream",
     "text": [
      "2.9540247714568117\n",
      "[2.02858529]\n"
     ]
    }
   ],
   "source": [
    "print(model.intercept_)\n",
    "print(model.coef_)"
   ]
  },
  {
   "cell_type": "code",
   "execution_count": 15,
   "metadata": {},
   "outputs": [],
   "source": [
    "import matplotlib.pyplot as plt\n",
    "X_test = np.column_stack((np.ones(shape=(len(X_test),1)), X_test))\n",
    "y_test_pred = my_lr.predict(X=X_test)"
   ]
  },
  {
   "cell_type": "markdown",
   "metadata": {},
   "source": [
    "### Plot output on test data: ###"
   ]
  },
  {
   "cell_type": "code",
   "execution_count": 16,
   "metadata": {},
   "outputs": [
    {
     "data": {
      "image/png": "[encoded data removed]",
      "text/plain": [
       "<Figure size 432x288 with 1 Axes>"
      ]
     },
     "metadata": {
      "needs_background": "light"
     },
     "output_type": "display_data"
    }
   ],
   "source": [
    "plt.scatter(X_test[:,1], y_test,  color='black')\n",
    "plt.plot(X_test[:,1], y_test_pred, color='blue')\n",
    "plt.show()"
   ]
  },
  {
   "cell_type": "markdown",
   "metadata": {},
   "source": [
    "### Test Multiple Linear Regression ###"
   ]
  },
  {
   "cell_type": "code",
   "execution_count": 17,
   "metadata": {},
   "outputs": [],
   "source": [
    "### Testing multiple linear regression without train/test validation: ###\n",
    "X = np.random.uniform(low=-5, high=5, size=(200,3))\n",
    "weights = np.array([2, 5, -3])\n",
    "intercept = -2\n",
    "y = np.matmul(X, weights) + intercept + np.random.normal(size=200)"
   ]
  },
  {
   "cell_type": "code",
   "execution_count": 18,
   "metadata": {},
   "outputs": [
    {
     "name": "stdout",
     "output_type": "stream",
     "text": [
      "Empirical risk in iteration:0: 44969.754039084495\n",
      "Empirical risk in iteration:10: 8039.719848559215\n",
      "Empirical risk in iteration:20: 1714.3887692501708\n",
      "Empirical risk in iteration:30: 570.885885926708\n",
      "Empirical risk in iteration:40: 332.7519198302421\n",
      "Empirical risk in iteration:50: 261.85361709030866\n",
      "Empirical risk in iteration:60: 226.48401632601897\n",
      "Empirical risk in iteration:70: 201.78905784650897\n",
      "Empirical risk in iteration:80: 182.39584408979547\n",
      "Empirical risk in iteration:90: 166.6840920977199\n",
      "Empirical risk in iteration:100: 153.85661353714158\n",
      "Empirical risk in iteration:110: 143.36409502583615\n",
      "Empirical risk in iteration:120: 134.7774715178456\n",
      "Empirical risk in iteration:130: 127.74971894404369\n",
      "Empirical risk in iteration:140: 121.99765697897911\n",
      "Empirical risk in iteration:150: 117.28968366524524\n",
      "Empirical risk in iteration:160: 113.43627303489738\n",
      "Empirical risk in iteration:170: 110.28230844421027\n",
      "Empirical risk in iteration:180: 107.70083065080485\n",
      "Empirical risk in iteration:190: 105.58792556287625\n",
      "Empirical risk in iteration:200: 103.85854095888487\n",
      "Empirical risk in iteration:210: 102.44306274701626\n",
      "Empirical risk in iteration:220: 101.28451272586001\n",
      "Empirical risk in iteration:230: 100.3362549989021\n",
      "Empirical risk in iteration:240: 99.5601187075424\n",
      "Empirical risk in iteration:250: 98.9248615135882\n",
      "Empirical risk in iteration:260: 98.4049119802855\n",
      "Empirical risk in iteration:270: 97.97934022800179\n",
      "Empirical risk in iteration:280: 97.63101542964785\n",
      "Empirical risk in iteration:290: 97.345916231928\n",
      "Empirical risk in iteration:300: 97.11256634433857\n",
      "Empirical risk in iteration:310: 96.92157257629749\n",
      "Empirical risk in iteration:320: 96.76524672670163\n",
      "Empirical risk in iteration:330: 96.63729610557654\n",
      "Empirical risk in iteration:340: 96.53257023017837\n",
      "Empirical risk in iteration:350: 96.44685349913414\n",
      "Empirical risk in iteration:360: 96.3766954989936\n",
      "Empirical risk in iteration:370: 96.31927211240661\n",
      "Empirical risk in iteration:380: 96.27227183702094\n",
      "Empirical risk in iteration:390: 96.23380273901711\n",
      "Empirical risk in iteration:400: 96.20231629581882\n",
      "Empirical risk in iteration:410: 96.17654506236858\n",
      "Empirical risk in iteration:420: 96.15545165180572\n",
      "Empirical risk in iteration:430: 96.1381869768326\n",
      "Empirical risk in iteration:440: 96.1240560708306\n",
      "Empirical risk in iteration:450: 96.11249011289912\n",
      "Empirical risk in iteration:460: 96.10302353072441\n",
      "Empirical risk in iteration:470: 96.09527525958228\n",
      "Empirical risk in iteration:480: 96.08893340308292\n",
      "Empirical risk in iteration:490: 96.08374267819464\n"
     ]
    }
   ],
   "source": [
    "my_lr = MyLinearRegression(X=X, y=y)\n",
    "my_lr.train(max_iter=500, lr=0.01, optim = \"GD\")"
   ]
  },
  {
   "cell_type": "code",
   "execution_count": 19,
   "metadata": {},
   "outputs": [
    {
     "data": {
      "image/png": "[encoded data removed]",
      "text/plain": [
       "<Figure size 432x288 with 1 Axes>"
      ]
     },
     "metadata": {
      "needs_background": "light"
     },
     "output_type": "display_data"
    }
   ],
   "source": [
    "my_lr.plot_history()"
   ]
  },
  {
   "cell_type": "code",
   "execution_count": 20,
   "metadata": {},
   "outputs": [
    {
     "name": "stdout",
     "output_type": "stream",
     "text": [
      "[[-2.01515566]\n",
      " [ 2.02482528]\n",
      " [ 4.99213104]\n",
      " [-2.98388492]]\n",
      "[[-2.02901736]\n",
      " [ 2.02463468]\n",
      " [ 4.9921677 ]\n",
      " [-2.98414321]]\n",
      "[[-2.02901736]\n",
      " [ 2.02463468]\n",
      " [ 4.9921677 ]\n",
      " [-2.98414321]]\n"
     ]
    }
   ],
   "source": [
    "print(my_lr.w)\n",
    "print(my_lr.w_stable)\n",
    "print(my_lr.w_unstable)"
   ]
  },
  {
   "cell_type": "code",
   "execution_count": 21,
   "metadata": {},
   "outputs": [],
   "source": [
    "lm = LinearRegression(fit_intercept=True)\n",
    "model = lm.fit(X,y)"
   ]
  },
  {
   "cell_type": "code",
   "execution_count": 22,
   "metadata": {},
   "outputs": [
    {
     "name": "stdout",
     "output_type": "stream",
     "text": [
      "-2.029017355535923\n",
      "[ 2.02463468  4.9921677  -2.98414321]\n"
     ]
    }
   ],
   "source": [
    "print(model.intercept_)\n",
    "print(model.coef_)"
   ]
  },
  {
   "cell_type": "markdown",
   "metadata": {},
   "source": [
    "### Try out stochastig gradient descent ###"
   ]
  },
  {
   "cell_type": "code",
   "execution_count": 23,
   "metadata": {},
   "outputs": [
    {
     "name": "stdout",
     "output_type": "stream",
     "text": [
      "Empirical risk in iteration:0: 46128.387959653955\n",
      "Empirical risk in iteration:10: 29371.365093562486\n",
      "Empirical risk in iteration:20: 18862.271783643522\n",
      "Empirical risk in iteration:30: 12625.420780061559\n",
      "Empirical risk in iteration:40: 8369.813405565295\n",
      "Empirical risk in iteration:50: 5441.503916517128\n",
      "Empirical risk in iteration:60: 3665.614933136123\n",
      "Empirical risk in iteration:70: 2407.608780794655\n",
      "Empirical risk in iteration:80: 1641.795856518486\n",
      "Empirical risk in iteration:90: 1142.779046315195\n",
      "Empirical risk in iteration:100: 827.2576774176664\n",
      "Empirical risk in iteration:110: 615.1897795295438\n",
      "Empirical risk in iteration:120: 473.206480546161\n",
      "Empirical risk in iteration:130: 378.9194362527507\n",
      "Empirical risk in iteration:140: 317.00025423000045\n",
      "Empirical risk in iteration:150: 274.2005067607334\n",
      "Empirical risk in iteration:160: 245.49898962588486\n",
      "Empirical risk in iteration:170: 221.97812096442556\n",
      "Empirical risk in iteration:180: 207.25351907782266\n",
      "Empirical risk in iteration:190: 193.75404877170234\n",
      "Empirical risk in iteration:200: 185.07217077795087\n",
      "Empirical risk in iteration:210: 178.60393913702458\n",
      "Empirical risk in iteration:220: 172.0414866798483\n",
      "Empirical risk in iteration:230: 166.82702822893577\n",
      "Empirical risk in iteration:240: 162.6103438640268\n",
      "Empirical risk in iteration:250: 159.1585660526474\n",
      "Empirical risk in iteration:260: 155.6243385513336\n",
      "Empirical risk in iteration:270: 152.1141823388072\n",
      "Empirical risk in iteration:280: 148.92159625112384\n",
      "Empirical risk in iteration:290: 146.10579210241002\n",
      "Empirical risk in iteration:300: 143.43800576061338\n",
      "Empirical risk in iteration:310: 140.99153151041787\n",
      "Empirical risk in iteration:320: 139.0413360841061\n",
      "Empirical risk in iteration:330: 136.7322338146313\n",
      "Empirical risk in iteration:340: 134.75335556126655\n",
      "Empirical risk in iteration:350: 132.98319296324053\n",
      "Empirical risk in iteration:360: 131.26663244193145\n",
      "Empirical risk in iteration:370: 129.42471462027734\n",
      "Empirical risk in iteration:380: 127.77346545671448\n",
      "Empirical risk in iteration:390: 126.4606462394446\n",
      "Empirical risk in iteration:400: 125.0653598522101\n",
      "Empirical risk in iteration:410: 123.53065441277438\n",
      "Empirical risk in iteration:420: 122.3471593830695\n",
      "Empirical risk in iteration:430: 120.91349006032337\n",
      "Empirical risk in iteration:440: 119.66828001279468\n",
      "Empirical risk in iteration:450: 118.48037419659622\n",
      "Empirical risk in iteration:460: 117.4328502805605\n",
      "Empirical risk in iteration:470: 116.50380434915155\n",
      "Empirical risk in iteration:480: 115.62463468020692\n",
      "Empirical risk in iteration:490: 114.61252519422474\n",
      "Empirical risk in iteration:500: 113.6978078122489\n",
      "Empirical risk in iteration:510: 112.8754281139561\n",
      "Empirical risk in iteration:520: 112.14285616755205\n",
      "Empirical risk in iteration:530: 111.32784756200496\n",
      "Empirical risk in iteration:540: 110.68506072032068\n",
      "Empirical risk in iteration:550: 109.95789385893053\n",
      "Empirical risk in iteration:560: 109.35410322294051\n",
      "Empirical risk in iteration:570: 108.74605301699452\n",
      "Empirical risk in iteration:580: 108.20027104405216\n",
      "Empirical risk in iteration:590: 107.74329536505081\n",
      "Empirical risk in iteration:600: 107.2110023840027\n",
      "Empirical risk in iteration:610: 106.65671320336502\n",
      "Empirical risk in iteration:620: 106.14974844116864\n",
      "Empirical risk in iteration:630: 105.69094212346445\n",
      "Empirical risk in iteration:640: 105.15854243344253\n",
      "Empirical risk in iteration:650: 104.75808220678206\n",
      "Empirical risk in iteration:660: 104.21842284630279\n",
      "Empirical risk in iteration:670: 103.88125637516487\n",
      "Empirical risk in iteration:680: 103.46532645031114\n",
      "Empirical risk in iteration:690: 103.14307597111899\n",
      "Empirical risk in iteration:700: 102.82299519851186\n",
      "Empirical risk in iteration:710: 102.49992645840292\n",
      "Empirical risk in iteration:720: 102.24157109016535\n",
      "Empirical risk in iteration:730: 101.8803984349769\n",
      "Empirical risk in iteration:740: 101.53602517488793\n",
      "Empirical risk in iteration:750: 101.26033668727281\n",
      "Empirical risk in iteration:760: 101.05314001344263\n",
      "Empirical risk in iteration:770: 100.80331049472795\n",
      "Empirical risk in iteration:780: 100.48169066769597\n",
      "Empirical risk in iteration:790: 100.20609540846927\n",
      "Empirical risk in iteration:800: 100.02753337058357\n",
      "Empirical risk in iteration:810: 99.87055495239338\n",
      "Empirical risk in iteration:820: 99.71799901216953\n",
      "Empirical risk in iteration:830: 99.57497629982745\n",
      "Empirical risk in iteration:840: 99.37798083749745\n",
      "Empirical risk in iteration:850: 99.28047408380147\n",
      "Empirical risk in iteration:860: 99.1105252874174\n",
      "Empirical risk in iteration:870: 98.97227869973611\n",
      "Empirical risk in iteration:880: 98.73796473457004\n",
      "Empirical risk in iteration:890: 98.54375696117066\n",
      "Empirical risk in iteration:900: 98.36082658922462\n",
      "Empirical risk in iteration:910: 98.22048378499134\n",
      "Empirical risk in iteration:920: 98.12566250963228\n",
      "Empirical risk in iteration:930: 98.02534977142787\n",
      "Empirical risk in iteration:940: 97.92931537741663\n",
      "Empirical risk in iteration:950: 97.8348191292395\n",
      "Empirical risk in iteration:960: 97.75206807579205\n",
      "Empirical risk in iteration:970: 97.66626033039843\n",
      "Empirical risk in iteration:980: 97.64525166392492\n",
      "Empirical risk in iteration:990: 97.55279181986539\n",
      "Empirical risk in iteration:1000: 97.51713615893648\n",
      "Empirical risk in iteration:1010: 97.41460069829597\n",
      "Empirical risk in iteration:1020: 97.3438593790978\n",
      "Empirical risk in iteration:1030: 97.29112461280172\n",
      "Empirical risk in iteration:1040: 97.23199209418792\n",
      "Empirical risk in iteration:1050: 97.15805468357928\n",
      "Empirical risk in iteration:1060: 97.11049021740789\n",
      "Empirical risk in iteration:1070: 97.14663919111075\n",
      "Empirical risk in iteration:1080: 97.094022152935\n",
      "Empirical risk in iteration:1090: 97.03739088535283\n",
      "Empirical risk in iteration:1100: 96.96939922493785\n",
      "Empirical risk in iteration:1110: 96.92785978103508\n",
      "Empirical risk in iteration:1120: 96.95818921596052\n",
      "Empirical risk in iteration:1130: 96.81232723328941\n",
      "Empirical risk in iteration:1140: 96.73956257240077\n",
      "Empirical risk in iteration:1150: 96.70163681609324\n",
      "Empirical risk in iteration:1160: 96.66857779625681\n",
      "Empirical risk in iteration:1170: 96.72140459811767\n",
      "Empirical risk in iteration:1180: 96.6346391645805\n",
      "Empirical risk in iteration:1190: 96.58706930576506\n",
      "Empirical risk in iteration:1200: 96.53076080546094\n",
      "Empirical risk in iteration:1210: 96.51394517011674\n",
      "Empirical risk in iteration:1220: 96.50117586632909\n",
      "Empirical risk in iteration:1230: 96.49401335450383\n",
      "Empirical risk in iteration:1240: 96.46434882164571\n",
      "Empirical risk in iteration:1250: 96.46567697304752\n",
      "Empirical risk in iteration:1260: 96.43712569332087\n",
      "Empirical risk in iteration:1270: 96.45500722450114\n",
      "Empirical risk in iteration:1280: 96.41418941259738\n",
      "Empirical risk in iteration:1290: 96.40187432411835\n",
      "Empirical risk in iteration:1300: 96.40110355772147\n",
      "Empirical risk in iteration:1310: 96.38453242216904\n",
      "Empirical risk in iteration:1320: 96.3718239051318\n",
      "Empirical risk in iteration:1330: 96.33359039514457\n",
      "Empirical risk in iteration:1340: 96.2915859727456\n",
      "Empirical risk in iteration:1350: 96.28281473655991\n",
      "Empirical risk in iteration:1360: 96.28980574670713\n",
      "Empirical risk in iteration:1370: 96.3663539578757\n",
      "Empirical risk in iteration:1380: 96.46199013780698\n",
      "Empirical risk in iteration:1390: 96.47199365970998\n",
      "Empirical risk in iteration:1400: 96.29733085609385\n",
      "Empirical risk in iteration:1410: 96.25796496040985\n",
      "Empirical risk in iteration:1420: 96.25186957949796\n",
      "Empirical risk in iteration:1430: 96.25369400686964\n",
      "Empirical risk in iteration:1440: 96.25819758258181\n",
      "Empirical risk in iteration:1450: 96.23415921391292\n",
      "Empirical risk in iteration:1460: 96.20383004611755\n",
      "Empirical risk in iteration:1470: 96.20880733560409\n",
      "Empirical risk in iteration:1480: 96.20637733839834\n",
      "Empirical risk in iteration:1490: 96.18248518583883\n"
     ]
    }
   ],
   "source": [
    "my_lr = MyLinearRegression(X=X, y=y)\n",
    "my_lr.train(max_iter=1500, lr=0.01, optim = \"SGD\")"
   ]
  },
  {
   "cell_type": "code",
   "execution_count": 24,
   "metadata": {},
   "outputs": [
    {
     "data": {
      "image/png": "[encoded data removed]",
      "text/plain": [
       "<Figure size 432x288 with 1 Axes>"
      ]
     },
     "metadata": {
      "needs_background": "light"
     },
     "output_type": "display_data"
    }
   ],
   "source": [
    "my_lr.plot_history()"
   ]
  },
  {
   "cell_type": "code",
   "execution_count": 25,
   "metadata": {},
   "outputs": [],
   "source": [
    "### END ###"
   ]
  }
 ],
 "metadata": {
  "kernelspec": {
   "display_name": "Python 3",
   "language": "python",
   "name": "python3"
  },
  "language_info": {
   "codemirror_mode": {
    "name": "ipython",
    "version": 3
   },
   "file_extension": ".py",
   "mimetype": "text/x-python",
   "name": "python",
   "nbconvert_exporter": "python",
   "pygments_lexer": "ipython3",
   "version": "3.6.3"
  }
 },
 "nbformat": 4,
 "nbformat_minor": 2
}
