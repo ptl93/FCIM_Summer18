{
 "cells": [
  {
   "cell_type": "code",
   "execution_count": null,
   "metadata": {},
   "outputs": [],
   "source": [
    "###Author: Tuan Le\n",
    "###Email: tuanle@hotmail.de\n",
    "\n",
    "## Task:\n",
    "## Implement quadratic discriminant analysis as explained in lecture"
   ]
  },
  {
   "cell_type": "markdown",
   "metadata": {},
   "source": [
    "Formulas needed for the quadratic discriminant analysis are the following estimates:\n",
    "\n",
    "$$\n",
    "\\begin{array}{c}\n",
    "1.  \\hat{\\pi}_j = \\frac{n_j}{n} \\cr \\cr\n",
    "2.  \\hat{\\mu}_j = \\sum_{i: y_i=j} \\frac{x_i}{n_j} \\cr \\cr\n",
    "3.  \\hat{\\Sigma}_j = \\frac{1}{n_j - 1}\\sum_{i: y_i=j}(x_i - \\hat{\\mu}_j)(x_i - \\hat{\\mu}_j)' \\cr \\cr\n",
    "4.  \\pi_k(x) \\propto \\pi_k \\cdot p(x|y=k) \\cr \\cr\n",
    "\\end{array}\n",
    "$$\n",
    "\n",
    "where $p(x|y=k)$ is a multivariate normal distribution with specific class-covariance matrix:\n",
    "$$\n",
    "\\begin{array}{c}\n",
    "5. p(x | y = k) = \\frac{1}{(2\\pi)^{0.5p}det(\\Sigma_k)^{0.5}}exp(-\\frac{1}{2}(x - \\mu_k)'{\\Sigma_k}^{-1}(x-\\mu_k))\n",
    "\\end{array}\n",
    "$$"
   ]
  },
  {
   "cell_type": "code",
   "execution_count": 3,
   "metadata": {},
   "outputs": [],
   "source": [
    "import pandas as pd\n",
    "import numpy as np\n",
    "from sklearn import datasets\n",
    "\n",
    "iris = datasets.load_iris()\n",
    "iris_features = pd.DataFrame(iris.data)\n",
    "iris_features.columns = [\"Sepal.Length\", \"Sepal.Width\", \"Petal.Length\", \"Petal.Width\"]\n",
    "iris_target = pd.DataFrame(iris.target)\n",
    "iris_target.columns = [\"Species\"]\n",
    "iris_target[\"Species\"] = iris_target[\"Species\"].map({0: \"setosa\", 1: \"versicolor\", 2: \"virginica\"})\n",
    "\n",
    "iris_data = pd.concat([iris_features, iris_target], axis = 1)"
   ]
  },
  {
   "cell_type": "code",
   "execution_count": 4,
   "metadata": {},
   "outputs": [
    {
     "name": "stdout",
     "output_type": "stream",
     "text": [
      "versicolor    0.333333\n",
      "virginica     0.333333\n",
      "setosa        0.333333\n",
      "Name: Species, dtype: float64\n",
      "{}\n"
     ]
    }
   ],
   "source": [
    "class myQDA:\n",
    "    #constructor\n",
    "    def __init__(self, data, target):\n",
    "        self.data = data\n",
    "        self.target = target\n",
    "        self.n = data.shape[0]\n",
    "        self.p = data.shape[1] - 1\n",
    "        self.classes = data[target].unique()\n",
    "        self.n_j = data[target].value_counts()\n",
    "        self.label_col = np.where(self.data.columns == self.target)\n",
    "        self.estimateParams()\n",
    "    #helpers\n",
    "    def dropCol(self, data, col):\n",
    "        return data.drop(data.columns[[col]], axis = 1)\n",
    "        \n",
    "\n",
    "    def estimateParams(self):\n",
    "        self.pi_j = self.n_j / self.n\n",
    "        #calculate class means \n",
    "        self.mu_j = {} #tbd\n",
    "\n",
    "\n",
    "     \n",
    "\n",
    "        \n",
    "        \n",
    "testQDA = myQDA(data = iris_data, target = \"Species\")\n",
    "\n",
    "print(testQDA.pi_j)\n",
    "print(testQDA.mu_j)\n"
   ]
  },
  {
   "cell_type": "code",
   "execution_count": null,
   "metadata": {},
   "outputs": [],
   "source": []
  }
 ],
 "metadata": {
  "kernelspec": {
   "display_name": "Python 3",
   "language": "python",
   "name": "python3"
  },
  "language_info": {
   "codemirror_mode": {
    "name": "ipython",
    "version": 3
   },
   "file_extension": ".py",
   "mimetype": "text/x-python",
   "name": "python",
   "nbconvert_exporter": "python",
   "pygments_lexer": "ipython3",
   "version": "3.6.4"
  }
 },
 "nbformat": 4,
 "nbformat_minor": 2
}
